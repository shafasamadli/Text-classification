{
 "cells": [
  {
   "cell_type": "markdown",
   "id": "aec8fcf9",
   "metadata": {},
   "source": [
    "# 1. Load dataset\n",
    "#### In this assignment, you are expected to build a model that finds clusters in the given news articles dataset.\n",
    "#### You will need to read the data from data file (news.xlsx). It contains three columns: news category, news title, and the news content."
   ]
  },
  {
   "cell_type": "code",
   "execution_count": 104,
   "id": "182193de",
   "metadata": {},
   "outputs": [],
   "source": [
    "import numpy as np\n",
    "import pandas as pd"
   ]
  },
  {
   "cell_type": "code",
   "execution_count": 105,
   "id": "38be6cdc",
   "metadata": {},
   "outputs": [
    {
     "data": {
      "text/html": [
       "<div>\n",
       "<style scoped>\n",
       "    .dataframe tbody tr th:only-of-type {\n",
       "        vertical-align: middle;\n",
       "    }\n",
       "\n",
       "    .dataframe tbody tr th {\n",
       "        vertical-align: top;\n",
       "    }\n",
       "\n",
       "    .dataframe thead th {\n",
       "        text-align: right;\n",
       "    }\n",
       "</style>\n",
       "<table border=\"1\" class=\"dataframe\">\n",
       "  <thead>\n",
       "    <tr style=\"text-align: right;\">\n",
       "      <th></th>\n",
       "      <th>Category</th>\n",
       "      <th>Title</th>\n",
       "      <th>News_Article</th>\n",
       "    </tr>\n",
       "  </thead>\n",
       "  <tbody>\n",
       "    <tr>\n",
       "      <th>0</th>\n",
       "      <td>Maraqlı</td>\n",
       "      <td>Naviforce Sport Saat 2016 ilə zövqlərin ahəngi</td>\n",
       "      <td>Naviforce Sport Saat 2016 Yapon Mexanizmi Yapo...</td>\n",
       "    </tr>\n",
       "    <tr>\n",
       "      <th>1</th>\n",
       "      <td>Maraqlı</td>\n",
       "      <td>Sinir ,oynaq , sinir bel ağrılarına 3 gündə son !</td>\n",
       "      <td>ŞOK ! ŞOK ! ŞOK ! Xanımlar və bəylər , bel və ...</td>\n",
       "    </tr>\n",
       "    <tr>\n",
       "      <th>2</th>\n",
       "      <td>Maraqlı</td>\n",
       "      <td>Dəyərindən qat-qat aşağı qiymətə Mənzil</td>\n",
       "      <td>Dəyərindən qat-qat Aşağı Qiymətə. Həzi Aslanov...</td>\n",
       "    </tr>\n",
       "    <tr>\n",
       "      <th>3</th>\n",
       "      <td>İdman</td>\n",
       "      <td>2024 və 2028-ci il olimpiadalarının keçiriləcə...</td>\n",
       "      <td>2028-ci il Yay Olimpiya və Paralimpiya Oyunla...</td>\n",
       "    </tr>\n",
       "    <tr>\n",
       "      <th>4</th>\n",
       "      <td>Dünya</td>\n",
       "      <td>Türkiyədə zəlzələ</td>\n",
       "      <td>Türkiyədə daha bir zəlzələ meydana gəlib.   L...</td>\n",
       "    </tr>\n",
       "    <tr>\n",
       "      <th>...</th>\n",
       "      <td>...</td>\n",
       "      <td>...</td>\n",
       "      <td>...</td>\n",
       "    </tr>\n",
       "    <tr>\n",
       "      <th>49995</th>\n",
       "      <td>Siyasət</td>\n",
       "      <td>Əli Kərimli terrorçularla da əməkdaşlığa hazır...</td>\n",
       "      <td>AXCP sədri \"Milli Şura\"nın mitinqində qəsdən...</td>\n",
       "    </tr>\n",
       "    <tr>\n",
       "      <th>49996</th>\n",
       "      <td>Siyasət</td>\n",
       "      <td>Elşən Musayev: “Bəlkə elə o terrorist Əli Kəri...</td>\n",
       "      <td>\"Ümumiyyətlə, Milli Şuraya xoş olan, hətta o...</td>\n",
       "    </tr>\n",
       "    <tr>\n",
       "      <th>49997</th>\n",
       "      <td>Dünya</td>\n",
       "      <td>İstanbulda 52 mərtəbəli binada yanğın baş verib</td>\n",
       "      <td>Türkiyənin İstanbul şəhərinin Ataşehir rayon...</td>\n",
       "    </tr>\n",
       "    <tr>\n",
       "      <th>49998</th>\n",
       "      <td>Dünya</td>\n",
       "      <td>“Onlar cinayətkarlardır və bir-bir məhv edilir...</td>\n",
       "      <td>Rusiyanı tərk edərək İŞİD sıralarında döyüşə...</td>\n",
       "    </tr>\n",
       "    <tr>\n",
       "      <th>49999</th>\n",
       "      <td>İqtisadiyyat</td>\n",
       "      <td>Ukrayna Mərkəzi Bankı gözlənilmədən uçot dərəc...</td>\n",
       "      <td>Ukrayna Mərkəzi Bankı (NBU) bu gün keçirdiyi ...</td>\n",
       "    </tr>\n",
       "  </tbody>\n",
       "</table>\n",
       "<p>50000 rows × 3 columns</p>\n",
       "</div>"
      ],
      "text/plain": [
       "           Category                                              Title  \\\n",
       "0           Maraqlı     Naviforce Sport Saat 2016 ilə zövqlərin ahəngi   \n",
       "1           Maraqlı  Sinir ,oynaq , sinir bel ağrılarına 3 gündə son !   \n",
       "2           Maraqlı            Dəyərindən qat-qat aşağı qiymətə Mənzil   \n",
       "3             İdman  2024 və 2028-ci il olimpiadalarının keçiriləcə...   \n",
       "4             Dünya                                 Türkiyədə zəlzələ    \n",
       "...             ...                                                ...   \n",
       "49995       Siyasət  Əli Kərimli terrorçularla da əməkdaşlığa hazır...   \n",
       "49996       Siyasət  Elşən Musayev: “Bəlkə elə o terrorist Əli Kəri...   \n",
       "49997         Dünya    İstanbulda 52 mərtəbəli binada yanğın baş verib   \n",
       "49998         Dünya  “Onlar cinayətkarlardır və bir-bir məhv edilir...   \n",
       "49999  İqtisadiyyat  Ukrayna Mərkəzi Bankı gözlənilmədən uçot dərəc...   \n",
       "\n",
       "                                            News_Article  \n",
       "0      Naviforce Sport Saat 2016 Yapon Mexanizmi Yapo...  \n",
       "1      ŞOK ! ŞOK ! ŞOK ! Xanımlar və bəylər , bel və ...  \n",
       "2      Dəyərindən qat-qat Aşağı Qiymətə. Həzi Aslanov...  \n",
       "3       2028-ci il Yay Olimpiya və Paralimpiya Oyunla...  \n",
       "4       Türkiyədə daha bir zəlzələ meydana gəlib.   L...  \n",
       "...                                                  ...  \n",
       "49995    AXCP sədri \"Milli Şura\"nın mitinqində qəsdən...  \n",
       "49996    \"Ümumiyyətlə, Milli Şuraya xoş olan, hətta o...  \n",
       "49997    Türkiyənin İstanbul şəhərinin Ataşehir rayon...  \n",
       "49998    Rusiyanı tərk edərək İŞİD sıralarında döyüşə...  \n",
       "49999   Ukrayna Mərkəzi Bankı (NBU) bu gün keçirdiyi ...  \n",
       "\n",
       "[50000 rows x 3 columns]"
      ]
     },
     "execution_count": 105,
     "metadata": {},
     "output_type": "execute_result"
    }
   ],
   "source": [
    "df = pd.read_excel(\"C:/Users/ACER/Downloads/news.xlsx\")\n",
    "df"
   ]
  },
  {
   "cell_type": "markdown",
   "id": "e3786faa",
   "metadata": {},
   "source": [
    "# 2. Data preprocessing\n",
    "#### You are expected to extract features from the news articles using tf-idf representation techniques. You can use TfidfVectorizer for this purpose. You may want to limit the vocabulary size by choosing most frequent 3000 tokens. Experiment with different sizes."
   ]
  },
  {
   "cell_type": "code",
   "execution_count": 106,
   "id": "e95eb59a",
   "metadata": {},
   "outputs": [
    {
     "name": "stdout",
     "output_type": "stream",
     "text": [
      "<class 'pandas.core.frame.DataFrame'>\n",
      "RangeIndex: 50000 entries, 0 to 49999\n",
      "Data columns (total 3 columns):\n",
      " #   Column        Non-Null Count  Dtype \n",
      "---  ------        --------------  ----- \n",
      " 0   Category      50000 non-null  object\n",
      " 1   Title         50000 non-null  object\n",
      " 2   News_Article  50000 non-null  object\n",
      "dtypes: object(3)\n",
      "memory usage: 1.1+ MB\n"
     ]
    }
   ],
   "source": [
    "df.info()"
   ]
  },
  {
   "cell_type": "code",
   "execution_count": 107,
   "id": "c9bf9f72",
   "metadata": {},
   "outputs": [
    {
     "data": {
      "text/plain": [
       "Category        0\n",
       "Title           0\n",
       "News_Article    0\n",
       "dtype: int64"
      ]
     },
     "execution_count": 107,
     "metadata": {},
     "output_type": "execute_result"
    }
   ],
   "source": [
    "df.isnull().sum()"
   ]
  },
  {
   "cell_type": "code",
   "execution_count": null,
   "id": "99716f68",
   "metadata": {},
   "outputs": [],
   "source": [
    "import string\n",
    "from nltk.corpus import stopwords\n",
    "nonums = [char for char in mess if char not in string.digits]\n",
    "nonums = ''.join(nonums)"
   ]
  },
  {
   "cell_type": "code",
   "execution_count": 110,
   "id": "ed8ae872",
   "metadata": {},
   "outputs": [
    {
     "data": {
      "text/plain": [
       "<50000x3000 sparse matrix of type '<class 'numpy.float64'>'\n",
       "\twith 3334929 stored elements in Compressed Sparse Row format>"
      ]
     },
     "execution_count": 110,
     "metadata": {},
     "output_type": "execute_result"
    }
   ],
   "source": [
    "import string\n",
    "from sklearn.feature_extraction.text import TfidfVectorizer\n",
    "vectorizer = TfidfVectorizer(max_features=3000)\n",
    "X = vectorizer.fit_transform(df[\"News_Article\"])\n",
    "X"
   ]
  },
  {
   "cell_type": "code",
   "execution_count": null,
   "id": "af081050",
   "metadata": {},
   "outputs": [],
   "source": []
  },
  {
   "cell_type": "code",
   "execution_count": null,
   "id": "90121dad",
   "metadata": {},
   "outputs": [],
   "source": []
  },
  {
   "cell_type": "code",
   "execution_count": null,
   "id": "a4693be3",
   "metadata": {},
   "outputs": [],
   "source": []
  },
  {
   "cell_type": "code",
   "execution_count": null,
   "id": "6d5f98de",
   "metadata": {},
   "outputs": [],
   "source": [
    "from sklearn.feature_extraction.text import CountVectorizer\n",
    "import re\n",
    "from sklearn.feature_extraction.text import TfidfVectorizer\n",
    "tfidf = TfidfVectorizer(max_features=3000,preprocessor=lambda x: re.sub(r'(\\d[\\d\\.])+', '', x.lower()))\n",
    "X_train_counts = tfidf.fit_transform(X_train.ravel())\n",
    "X_test_counts=tfidf.transform(X_test.ravel())"
   ]
  },
  {
   "cell_type": "code",
   "execution_count": 89,
   "id": "68769db9",
   "metadata": {},
   "outputs": [
    {
     "data": {
      "text/plain": [
       "<50000x3000 sparse matrix of type '<class 'numpy.float64'>'\n",
       "\twith 3334929 stored elements in Compressed Sparse Row format>"
      ]
     },
     "execution_count": 89,
     "metadata": {},
     "output_type": "execute_result"
    }
   ],
   "source": [
    "from sklearn.feature_extraction.text import TfidfVectorizer\n",
    "vectorizer = TfidfVectorizer(max_features=3000,stopwords=[])\n",
    "X = vectorizer.fit_transform(df[\"News_Article\"])\n",
    "X"
   ]
  },
  {
   "cell_type": "code",
   "execution_count": 90,
   "id": "d1ca8389",
   "metadata": {},
   "outputs": [
    {
     "data": {
      "text/plain": [
       "(50000, 3000)"
      ]
     },
     "execution_count": 90,
     "metadata": {},
     "output_type": "execute_result"
    }
   ],
   "source": [
    "X.shape"
   ]
  },
  {
   "cell_type": "code",
   "execution_count": 91,
   "id": "86ad4158",
   "metadata": {},
   "outputs": [
    {
     "data": {
      "text/plain": [
       "array(['00', '000', '01', ..., 'əziyyət', 'əziz', 'ال'], dtype=object)"
      ]
     },
     "execution_count": 91,
     "metadata": {},
     "output_type": "execute_result"
    }
   ],
   "source": [
    "vectorizer.get_feature_names_out()"
   ]
  },
  {
   "cell_type": "code",
   "execution_count": null,
   "id": "f1c9e8a1",
   "metadata": {},
   "outputs": [],
   "source": [
    "a=vectorizer.get_feature_names_out()\n",
    "for i in a:\n",
    "    \n",
    "    if i.isdigit():\n",
    "        print(i)\n",
    "len(list1)"
   ]
  },
  {
   "cell_type": "code",
   "execution_count": 93,
   "id": "3908a177",
   "metadata": {},
   "outputs": [
    {
     "data": {
      "text/plain": [
       "numpy.ndarray"
      ]
     },
     "execution_count": 93,
     "metadata": {},
     "output_type": "execute_result"
    }
   ],
   "source": [
    "type(a)"
   ]
  },
  {
   "cell_type": "code",
   "execution_count": null,
   "id": "ce27ebf6",
   "metadata": {},
   "outputs": [],
   "source": [
    "vocabulary = a[113:]\n",
    "vocabulary"
   ]
  },
  {
   "cell_type": "code",
   "execution_count": null,
   "id": "f86504bd",
   "metadata": {},
   "outputs": [],
   "source": []
  },
  {
   "cell_type": "code",
   "execution_count": null,
   "id": "8375126c",
   "metadata": {},
   "outputs": [],
   "source": [
    "vocabulary.shape"
   ]
  },
  {
   "cell_type": "code",
   "execution_count": null,
   "id": "187e5824",
   "metadata": {},
   "outputs": [],
   "source": [
    "type(vocabulary)"
   ]
  },
  {
   "cell_type": "markdown",
   "id": "0968fc21",
   "metadata": {},
   "source": [
    "# 3. PCA\n",
    "#### Apply PCA on the prepared data with 3 components."
   ]
  },
  {
   "cell_type": "code",
   "execution_count": 100,
   "id": "d5f3b943",
   "metadata": {},
   "outputs": [],
   "source": [
    "from sklearn.decomposition import TruncatedSVD\n",
    "from scipy.sparse import csr_matrix\n",
    "svd = TruncatedSVD(n_components=390)\n",
    "svd_fit = svd.fit_transform(X)"
   ]
  },
  {
   "cell_type": "code",
   "execution_count": 101,
   "id": "fe41be99",
   "metadata": {},
   "outputs": [
    {
     "data": {
      "text/plain": [
       "array([[ 0.076297  ,  0.03392207,  0.18397105, ...,  0.00320787,\n",
       "         0.02302207,  0.01093229],\n",
       "       [ 0.27741802, -0.06935121,  0.23810921, ...,  0.00854481,\n",
       "        -0.00132357,  0.02031031],\n",
       "       [ 0.11970573, -0.00758479,  0.09244615, ...,  0.03344928,\n",
       "        -0.01479345, -0.00834143],\n",
       "       ...,\n",
       "       [ 0.09450276,  0.00575435, -0.13848082, ...,  0.00343529,\n",
       "         0.00760287,  0.00237344],\n",
       "       [ 0.24694654, -0.088912  , -0.02796217, ...,  0.00440484,\n",
       "        -0.00704801, -0.01097459],\n",
       "       [ 0.22468262, -0.04773247, -0.10835822, ..., -0.0111961 ,\n",
       "         0.01196605,  0.02065122]])"
      ]
     },
     "execution_count": 101,
     "metadata": {},
     "output_type": "execute_result"
    }
   ],
   "source": [
    "svd_fit"
   ]
  },
  {
   "cell_type": "code",
   "execution_count": null,
   "id": "2a0c7416",
   "metadata": {},
   "outputs": [],
   "source": []
  },
  {
   "cell_type": "markdown",
   "id": "e2fc3772",
   "metadata": {},
   "source": [
    "# 4. Visualization\n",
    "#### Visualize the data in 3D."
   ]
  },
  {
   "cell_type": "code",
   "execution_count": null,
   "id": "b81b0b2b",
   "metadata": {},
   "outputs": [],
   "source": [
    "import matplotlib.pyplot as plt\n",
    "from mpl_toolkits.mplot3d import Axes3D"
   ]
  },
  {
   "cell_type": "markdown",
   "id": "61b15393",
   "metadata": {},
   "source": [
    "# 5. Clustering\n",
    "#### Apply Kmeans clustering on the data."
   ]
  },
  {
   "cell_type": "code",
   "execution_count": null,
   "id": "f5026f58",
   "metadata": {},
   "outputs": [],
   "source": []
  },
  {
   "attachments": {
    "image.png": {
     "image/png": "[encoded data removed]"
    }
   },
   "cell_type": "markdown",
   "id": "95733102",
   "metadata": {},
   "source": [
    "# 6. Visualization\n",
    "#### Visualize the data in 3D with cluster as color. Use plotly to make it interactive.\n",
    "#### Your plot should look like the following:\n",
    "![image.png](attachment:image.png)"
   ]
  },
  {
   "cell_type": "code",
   "execution_count": null,
   "id": "6793af59",
   "metadata": {},
   "outputs": [],
   "source": []
  }
 ],
 "metadata": {
  "kernelspec": {
   "display_name": "Python 3 (ipykernel)",
   "language": "python",
   "name": "python3"
  },
  "language_info": {
   "codemirror_mode": {
    "name": "ipython",
    "version": 3
   },
   "file_extension": ".py",
   "mimetype": "text/x-python",
   "name": "python",
   "nbconvert_exporter": "python",
   "pygments_lexer": "ipython3",
   "version": "3.9.7"
  }
 },
 "nbformat": 4,
 "nbformat_minor": 5
}
